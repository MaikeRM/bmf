{
 "cells": [
  {
   "cell_type": "code",
   "execution_count": 1,
   "metadata": {},
   "outputs": [
    {
     "data": {
      "text/plain": [
       "4.721881983343825"
      ]
     },
     "execution_count": 1,
     "metadata": {},
     "output_type": "execute_result"
    }
   ],
   "source": [
    "# Variáveis iniciais\n",
    "moeda1 = 4.60\n",
    "tx1 = 0.12\n",
    "tx2 = 0.0035\n",
    "tempo = 60\n",
    "\n",
    "#Formula para calculo (expectativa para a cotacao da moeda em n meses)\n",
    "f = moeda1 * ((1+tx1) / (1+tx2))**(tempo/252)\n",
    "f"
   ]
  },
  {
   "cell_type": "code",
   "execution_count": 2,
   "metadata": {},
   "outputs": [
    {
     "name": "stderr",
     "output_type": "stream",
     "text": [
      "C:\\Users\\maike\\anaconda3\\lib\\site-packages\\numpy\\_distributor_init.py:30: UserWarning: loaded more than 1 DLL from .libs:\n",
      "C:\\Users\\maike\\anaconda3\\lib\\site-packages\\numpy\\.libs\\libopenblas.EL2C6PLE4ZYW3ECEVIV3OXXGRN2NRFM2.gfortran-win_amd64.dll\n",
      "C:\\Users\\maike\\anaconda3\\lib\\site-packages\\numpy\\.libs\\libopenblas.PYQHXLVVQ7VESDPUVUADXEVJOBGHJPAY.gfortran-win_amd64.dll\n",
      "  warnings.warn(\"loaded more than 1 DLL from .libs:\"\n"
     ]
    }
   ],
   "source": [
    "import pandas as pd\n",
    "from bizdays.bizdays import Calendar #https://github.com/wilsonfreitas/python-bizdays\n",
    "cal = Calendar.load(filename=r\"C:\\Users\\maike\\anaconda3\\Lib\\bizdays\\ANBIMA.cal\")\n",
    "\n",
    "path = 'https://www2.bmf.com.br/pages/portal/bmfbovespa/lumis/lum-ajustes-do-pregao-ptBR.asp'\n",
    "df = pd.read_html(path)\n",
    "\n",
    "df[0]['Mercadoria'] = df[0]['Mercadoria'].ffill()\n",
    "df = df[0]"
   ]
  },
  {
   "cell_type": "code",
   "execution_count": null,
   "metadata": {},
   "outputs": [],
   "source": [
    "df[df['Mercadoria']=='DI1 - DI de 1 dia']"
   ]
  },
  {
   "cell_type": "code",
   "execution_count": 30,
   "metadata": {},
   "outputs": [],
   "source": [
    "n = cal.bizdays('2022-04-04', '2022-05-02')"
   ]
  },
  {
   "cell_type": "code",
   "execution_count": null,
   "metadata": {},
   "outputs": [],
   "source": [
    "#http://www.bmf.com.br/bmfbovespa/pages/contratos1/Financeiros/PDF/DIfuturo.pdf"
   ]
  },
  {
   "cell_type": "code",
   "execution_count": 31,
   "metadata": {},
   "outputs": [],
   "source": [
    "i = 100*(((100000/99172.31)**(252/n)) - 1)"
   ]
  },
  {
   "cell_type": "code",
   "execution_count": 35,
   "metadata": {},
   "outputs": [
    {
     "data": {
      "text/plain": [
       "12.339888902211783"
      ]
     },
     "execution_count": 35,
     "metadata": {},
     "output_type": "execute_result"
    }
   ],
   "source": [
    "i"
   ]
  },
  {
   "cell_type": "code",
   "execution_count": 36,
   "metadata": {},
   "outputs": [
    {
     "data": {
      "text/plain": [
       "5.5337235965891995"
      ]
     },
     "execution_count": 36,
     "metadata": {},
     "output_type": "execute_result"
    }
   ],
   "source": [
    "f = moeda1 * ((1+i) / (1+tx2))**(n/252)\n",
    "f"
   ]
  },
  {
   "cell_type": "code",
   "execution_count": null,
   "metadata": {},
   "outputs": [],
   "source": [
    "maturidade_dict = {'01': 'F',\n",
    "                    '02': 'G',\n",
    "                    '03': 'H',\n",
    "                    '04': 'J',\n",
    "                    '05': 'K',\n",
    "                    '06': 'M',\n",
    "                    '07': 'N',\n",
    "                    '08': 'Q',\n",
    "                    '09': 'U',\n",
    "                    '10': 'V',\n",
    "                    '11': 'X',\n",
    "                    '12': 'Z'}"
   ]
  },
  {
   "cell_type": "code",
   "execution_count": null,
   "metadata": {},
   "outputs": [],
   "source": []
  }
 ],
 "metadata": {
  "interpreter": {
   "hash": "2a89ebda5b1df6869a80ed231ce3cbd82800ba4c96516904a7ea152290f5b260"
  },
  "kernelspec": {
   "display_name": "Python 3.8.8 ('base')",
   "language": "python",
   "name": "python3"
  },
  "language_info": {
   "codemirror_mode": {
    "name": "ipython",
    "version": 3
   },
   "file_extension": ".py",
   "mimetype": "text/x-python",
   "name": "python",
   "nbconvert_exporter": "python",
   "pygments_lexer": "ipython3",
   "version": "3.8.8"
  },
  "orig_nbformat": 4
 },
 "nbformat": 4,
 "nbformat_minor": 2
}
